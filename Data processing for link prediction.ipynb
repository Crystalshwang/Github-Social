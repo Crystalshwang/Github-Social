{
 "cells": [
  {
   "cell_type": "code",
   "execution_count": 60,
   "metadata": {},
   "outputs": [
    {
     "name": "stdout",
     "output_type": "stream",
     "text": [
      "Populating the interactive namespace from numpy and matplotlib\n",
      "CPU times: user 2.98 ms, sys: 999 µs, total: 3.98 ms\n",
      "Wall time: 3.91 ms\n"
     ]
    }
   ],
   "source": [
    "%%time\n",
    "#import useful packages, all of them are important but not necessarily used in this code\n",
    "#enable inline plotting in Python Notebook\n",
    "#supress warnings\n",
    "\n",
    "%pylab inline\n",
    "import time\n",
    "import csv\n",
    "import random\n",
    "from collections import defaultdict"
   ]
  },
  {
   "cell_type": "code",
   "execution_count": 2,
   "metadata": {},
   "outputs": [],
   "source": [
    "RANDOM_SEED = 1"
   ]
  },
  {
   "cell_type": "code",
   "execution_count": 9,
   "metadata": {},
   "outputs": [],
   "source": [
    "def write_edges_to_txt(fileName, dataset):\n",
    "    with open(fileName, mode='w') as f:\n",
    "        data = csv.writer(f, delimiter='/t')\n",
    "        for d in dataset:\n",
    "            data.writerow(d)"
   ]
  },
  {
   "cell_type": "code",
   "execution_count": 26,
   "metadata": {},
   "outputs": [],
   "source": [
    "def generate_negative_entries(allEdges, testEdges):\n",
    "    '''\n",
    "    generate negative entries (edges that don't exist) for test set\n",
    "    allEdges: (source, target) tuple\n",
    "    testEdges: (source, target) tuple\n",
    "    '''\n",
    "    targetsPerSource = defaultdict(set)\n",
    "    nodes = set()\n",
    "    for source, target in allEdges:\n",
    "        targetsPerSource[source].add(target)\n",
    "        nodes.add(source)\n",
    "        nodes.add(target)\n",
    "       \n",
    "    test_positive_num = len(testEdges)\n",
    "    testEdges_label = [1] * test_positive_num\n",
    "    \n",
    "    targetsPerTestSource = defaultdict(set)\n",
    "    for source, target in testEdges:\n",
    "        targetsPerTestSource[source].add(target)\n",
    "    \n",
    "    for source in targetsPerTestSource:\n",
    "        diff = list(nodes.difference(targetsPerTestSource[source]))\n",
    "        neg_num = min(len(targetsPerTestSource[source]), len(diff))\n",
    "        rand_targets = random.sample(diff, neg_num)\n",
    "        testEdges += [(source, rt) for rt in rand_targets]\n",
    "        testEdges_label += [0] * neg_num\n",
    "    \n",
    "    return testEdges, testEdges_label"
   ]
  },
  {
   "cell_type": "code",
   "execution_count": 96,
   "metadata": {},
   "outputs": [],
   "source": [
    "# read in all edges and shuffle the data\n",
    "with open(\"edges.txt\", 'r') as f:\n",
    "    reader = csv.reader(f, delimiter=' ')\n",
    "    allEdges = [tuple(row) for row in reader]\n",
    "allEdges = [(int(e[0]), int(e[1])) for e in allEdges]\n",
    "\n",
    "random.seed(RANDOM_SEED)\n",
    "random.shuffle(allEdges)\n",
    "random.seed()\n",
    "edges_num = len(allEdges)"
   ]
  },
  {
   "cell_type": "code",
   "execution_count": 88,
   "metadata": {},
   "outputs": [
    {
     "data": {
      "text/plain": [
       "289003"
      ]
     },
     "execution_count": 88,
     "metadata": {},
     "output_type": "execute_result"
    }
   ],
   "source": [
    "len(allEdges)"
   ]
  },
  {
   "cell_type": "code",
   "execution_count": 89,
   "metadata": {},
   "outputs": [
    {
     "name": "stdout",
     "output_type": "stream",
     "text": [
      "training set: 231202\n",
      "test set: 57801\n"
     ]
    }
   ],
   "source": [
    "# split the data into training set and test set, train:test = 8:2\n",
    "train_num = int(len(allEdges)*0.8)\n",
    "print('training set:', train_num)\n",
    "test_num = edge_num - train_num\n",
    "print('test set:', test_num)\n",
    "trainEdges = allEdges[:train_num]\n",
    "testEdges = allEdges[train_num:]"
   ]
  },
  {
   "cell_type": "code",
   "execution_count": 90,
   "metadata": {},
   "outputs": [],
   "source": [
    "testEdgesWithNeg, labels = generate_negative_entries(allEdges, testEdges)"
   ]
  },
  {
   "cell_type": "code",
   "execution_count": 97,
   "metadata": {},
   "outputs": [
    {
     "name": "stdout",
     "output_type": "stream",
     "text": [
      "test set with negative entries: 115602\n"
     ]
    }
   ],
   "source": [
    "print('test set with negative entries:', len(set(testEdgesWithNeg)))"
   ]
  },
  {
   "cell_type": "code",
   "execution_count": 93,
   "metadata": {},
   "outputs": [],
   "source": [
    "testSet = [(int(e[0]), int(e[1]), el) for e, el in zip(testEdgesWithNeg, labels)]"
   ]
  },
  {
   "cell_type": "code",
   "execution_count": 95,
   "metadata": {},
   "outputs": [],
   "source": [
    "write_edges_to_txt('trainEdges.txt', sorted(trainEdges))\n",
    "write_edges_to_txt('testEdgesWithLabel.txt', sorted(testSet))"
   ]
  }
 ],
 "metadata": {
  "kernelspec": {
   "display_name": "Python 3",
   "language": "python",
   "name": "python3"
  },
  "language_info": {
   "codemirror_mode": {
    "name": "ipython",
    "version": 3
   },
   "file_extension": ".py",
   "mimetype": "text/x-python",
   "name": "python",
   "nbconvert_exporter": "python",
   "pygments_lexer": "ipython3",
   "version": "3.7.0"
  }
 },
 "nbformat": 4,
 "nbformat_minor": 2
}
