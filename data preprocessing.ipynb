{
 "cells": [
  {
   "cell_type": "code",
   "execution_count": 1,
   "metadata": {},
   "outputs": [],
   "source": [
    "import json\n",
    "import random\n",
    "import pandas as pd\n",
    "import networkx as nx\n",
    "import numpy as np"
   ]
  },
  {
   "cell_type": "code",
   "execution_count": 2,
   "metadata": {},
   "outputs": [],
   "source": [
    "def load_graph(graph_path):\n",
    "    \"\"\"\n",
    "    Reading a NetworkX graph.\n",
    "    :param graph_path: Path to the edge list.\n",
    "    :return graph: NetworkX object.\n",
    "    \"\"\"\n",
    "    g1 = nx.read_edgelist(graph_path,create_using = nx.Graph(),nodetype = int)\n",
    "    return g1"
   ]
  },
  {
   "cell_type": "code",
   "execution_count": 27,
   "metadata": {},
   "outputs": [],
   "source": [
    "def load_target(graph, target_path):\n",
    "    data = pd.read_csv(target_path)\n",
    "    targets = data.values.tolist()\n",
    "    \n",
    "    node = graph.nodes()\n",
    "    name = []\n",
    "    ml = []\n",
    "    temp = []\n",
    "    for k in range(len(node)):\n",
    "        name.append(targets[k][1])\n",
    "        ml.append(targets[k][2])\n",
    "    for k in range(len(node)):\n",
    "        temp.append(targets[k][0])\n",
    "        \n",
    "    nameList = dict(zip(temp,name))\n",
    "    mlList = dict(zip(temp,ml))\n",
    "    \n",
    "    for k in graph.nodes():\n",
    "        graph.node[k]['Name'] = nameList[k]\n",
    "        graph.node[k]['MLWeb'] = mlList[k]\n",
    "    return graph"
   ]
  },
  {
   "cell_type": "code",
   "execution_count": 4,
   "metadata": {},
   "outputs": [],
   "source": [
    "data = pd.read_csv(\"musae_git_edges.csv\")\n",
    "edges = data.values.tolist()\n",
    "f = open(\"edges.txt\",'a')\n",
    "for edge in edges:\n",
    "    f.write(str(edge[0])+\" \" +str(edge[1]))\n",
    "    f.write(\"\\n\")\n",
    "f.close()"
   ]
  },
  {
   "cell_type": "code",
   "execution_count": 28,
   "metadata": {},
   "outputs": [],
   "source": [
    "graph = load_graph(\"edges.txt\")\n",
    "nx.write_gml(graph, \"github_graph_justedge.gml\")"
   ]
  },
  {
   "cell_type": "code",
   "execution_count": 29,
   "metadata": {},
   "outputs": [],
   "source": [
    "graph1 = load_target(graph, \"musae_git_target.csv\")\n",
    "nx.write_gml(graph1, \"github_graph.gml\")"
   ]
  }
 ],
 "metadata": {
  "kernelspec": {
   "display_name": "Python 3",
   "language": "python",
   "name": "python3"
  },
  "language_info": {
   "codemirror_mode": {
    "name": "ipython",
    "version": 3
   },
   "file_extension": ".py",
   "mimetype": "text/x-python",
   "name": "python",
   "nbconvert_exporter": "python",
   "pygments_lexer": "ipython3",
   "version": "3.7.3"
  }
 },
 "nbformat": 4,
 "nbformat_minor": 2
}
